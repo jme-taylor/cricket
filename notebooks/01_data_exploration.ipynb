{
 "cells": [
  {
   "cell_type": "code",
   "execution_count": 3,
   "metadata": {},
   "outputs": [],
   "source": [
    "import polars as pl\n",
    "\n",
    "from cricket.constants import DATA_FOLDER"
   ]
  },
  {
   "cell_type": "code",
   "execution_count": 4,
   "metadata": {},
   "outputs": [
    {
     "data": {
      "text/html": [
       "<div><style>\n",
       ".dataframe > thead > tr,\n",
       ".dataframe > tbody > tr {\n",
       "  text-align: right;\n",
       "  white-space: pre-wrap;\n",
       "}\n",
       "</style>\n",
       "<small>shape: (5, 28)</small><table border=\"1\" class=\"dataframe\"><thead><tr><th>batter</th><th>non_striker</th><th>runs</th><th>batter_runs</th><th>extras</th><th>bowler</th><th>wides</th><th>noballs</th><th>byes</th><th>legbyes</th><th>penalty</th><th>player_out_1</th><th>kind_1</th><th>player_out_2</th><th>kind_2</th><th>over_num</th><th>ball_num_including_extras</th><th>ball_num</th><th>delivery</th><th>team</th><th>innings_number</th><th>powerplay</th><th>target_runs</th><th>target_overs</th><th>match_id</th><th>batter_id</th><th>non_striker_id</th><th>bowler_id</th></tr><tr><td>str</td><td>str</td><td>i64</td><td>i64</td><td>i64</td><td>str</td><td>i64</td><td>i64</td><td>i64</td><td>i64</td><td>i64</td><td>str</td><td>str</td><td>str</td><td>str</td><td>i64</td><td>i64</td><td>i64</td><td>f64</td><td>str</td><td>i64</td><td>bool</td><td>i64</td><td>f64</td><td>str</td><td>str</td><td>str</td><td>str</td></tr></thead><tbody><tr><td>&quot;AN Kervezee&quot;</td><td>&quot;ES Szwarczynsk…</td><td>1</td><td>1</td><td>0</td><td>&quot;NN Odhiambo&quot;</td><td>0</td><td>0</td><td>0</td><td>0</td><td>0</td><td>&quot;&quot;</td><td>&quot;&quot;</td><td>&quot;&quot;</td><td>&quot;&quot;</td><td>0</td><td>1</td><td>1</td><td>0.1</td><td>&quot;Netherlands&quot;</td><td>1</td><td>false</td><td>0</td><td>0.0</td><td>&quot;438938&quot;</td><td>&quot;dc36a6a5&quot;</td><td>&quot;6a7239a7&quot;</td><td>&quot;753b5a2d&quot;</td></tr><tr><td>&quot;ES Szwarczynsk…</td><td>&quot;AN Kervezee&quot;</td><td>1</td><td>0</td><td>1</td><td>&quot;NN Odhiambo&quot;</td><td>0</td><td>0</td><td>0</td><td>1</td><td>0</td><td>&quot;&quot;</td><td>&quot;&quot;</td><td>&quot;&quot;</td><td>&quot;&quot;</td><td>0</td><td>2</td><td>1</td><td>0.1</td><td>&quot;Netherlands&quot;</td><td>1</td><td>false</td><td>0</td><td>0.0</td><td>&quot;438938&quot;</td><td>&quot;6a7239a7&quot;</td><td>&quot;dc36a6a5&quot;</td><td>&quot;753b5a2d&quot;</td></tr><tr><td>&quot;AN Kervezee&quot;</td><td>&quot;ES Szwarczynsk…</td><td>0</td><td>0</td><td>0</td><td>&quot;NN Odhiambo&quot;</td><td>0</td><td>0</td><td>0</td><td>0</td><td>0</td><td>&quot;&quot;</td><td>&quot;&quot;</td><td>&quot;&quot;</td><td>&quot;&quot;</td><td>0</td><td>3</td><td>1</td><td>0.1</td><td>&quot;Netherlands&quot;</td><td>1</td><td>false</td><td>0</td><td>0.0</td><td>&quot;438938&quot;</td><td>&quot;dc36a6a5&quot;</td><td>&quot;6a7239a7&quot;</td><td>&quot;753b5a2d&quot;</td></tr><tr><td>&quot;AN Kervezee&quot;</td><td>&quot;ES Szwarczynsk…</td><td>4</td><td>4</td><td>0</td><td>&quot;NN Odhiambo&quot;</td><td>0</td><td>0</td><td>0</td><td>0</td><td>0</td><td>&quot;&quot;</td><td>&quot;&quot;</td><td>&quot;&quot;</td><td>&quot;&quot;</td><td>0</td><td>4</td><td>1</td><td>0.1</td><td>&quot;Netherlands&quot;</td><td>1</td><td>false</td><td>0</td><td>0.0</td><td>&quot;438938&quot;</td><td>&quot;dc36a6a5&quot;</td><td>&quot;6a7239a7&quot;</td><td>&quot;753b5a2d&quot;</td></tr><tr><td>&quot;AN Kervezee&quot;</td><td>&quot;ES Szwarczynsk…</td><td>0</td><td>0</td><td>0</td><td>&quot;NN Odhiambo&quot;</td><td>0</td><td>0</td><td>0</td><td>0</td><td>0</td><td>&quot;&quot;</td><td>&quot;&quot;</td><td>&quot;&quot;</td><td>&quot;&quot;</td><td>0</td><td>5</td><td>1</td><td>0.1</td><td>&quot;Netherlands&quot;</td><td>1</td><td>false</td><td>0</td><td>0.0</td><td>&quot;438938&quot;</td><td>&quot;dc36a6a5&quot;</td><td>&quot;6a7239a7&quot;</td><td>&quot;753b5a2d&quot;</td></tr></tbody></table></div>"
      ],
      "text/plain": [
       "shape: (5, 28)\n",
       "┌─────────────┬────────────┬──────┬────────────┬───┬──────────┬───────────┬────────────┬───────────┐\n",
       "│ batter      ┆ non_strike ┆ runs ┆ batter_run ┆ … ┆ match_id ┆ batter_id ┆ non_strike ┆ bowler_id │\n",
       "│ ---         ┆ r          ┆ ---  ┆ s          ┆   ┆ ---      ┆ ---       ┆ r_id       ┆ ---       │\n",
       "│ str         ┆ ---        ┆ i64  ┆ ---        ┆   ┆ str      ┆ str       ┆ ---        ┆ str       │\n",
       "│             ┆ str        ┆      ┆ i64        ┆   ┆          ┆           ┆ str        ┆           │\n",
       "╞═════════════╪════════════╪══════╪════════════╪═══╪══════════╪═══════════╪════════════╪═══════════╡\n",
       "│ AN Kervezee ┆ ES Szwarcz ┆ 1    ┆ 1          ┆ … ┆ 438938   ┆ dc36a6a5  ┆ 6a7239a7   ┆ 753b5a2d  │\n",
       "│             ┆ ynski      ┆      ┆            ┆   ┆          ┆           ┆            ┆           │\n",
       "│ ES Szwarczy ┆ AN         ┆ 1    ┆ 0          ┆ … ┆ 438938   ┆ 6a7239a7  ┆ dc36a6a5   ┆ 753b5a2d  │\n",
       "│ nski        ┆ Kervezee   ┆      ┆            ┆   ┆          ┆           ┆            ┆           │\n",
       "│ AN Kervezee ┆ ES Szwarcz ┆ 0    ┆ 0          ┆ … ┆ 438938   ┆ dc36a6a5  ┆ 6a7239a7   ┆ 753b5a2d  │\n",
       "│             ┆ ynski      ┆      ┆            ┆   ┆          ┆           ┆            ┆           │\n",
       "│ AN Kervezee ┆ ES Szwarcz ┆ 4    ┆ 4          ┆ … ┆ 438938   ┆ dc36a6a5  ┆ 6a7239a7   ┆ 753b5a2d  │\n",
       "│             ┆ ynski      ┆      ┆            ┆   ┆          ┆           ┆            ┆           │\n",
       "│ AN Kervezee ┆ ES Szwarcz ┆ 0    ┆ 0          ┆ … ┆ 438938   ┆ dc36a6a5  ┆ 6a7239a7   ┆ 753b5a2d  │\n",
       "│             ┆ ynski      ┆      ┆            ┆   ┆          ┆           ┆            ┆           │\n",
       "└─────────────┴────────────┴──────┴────────────┴───┴──────────┴───────────┴────────────┴───────────┘"
      ]
     },
     "execution_count": 4,
     "metadata": {},
     "output_type": "execute_result"
    }
   ],
   "source": [
    "ball_data = pl.read_parquet(DATA_FOLDER.joinpath(\"ball_level_data.parquet\"))\n",
    "ball_data.head()"
   ]
  }
 ],
 "metadata": {
  "kernelspec": {
   "display_name": "cricket-PWilCMmu-py3.9",
   "language": "python",
   "name": "python3"
  },
  "language_info": {
   "codemirror_mode": {
    "name": "ipython",
    "version": 3
   },
   "file_extension": ".py",
   "mimetype": "text/x-python",
   "name": "python",
   "nbconvert_exporter": "python",
   "pygments_lexer": "ipython3",
   "version": "3.9.16"
  }
 },
 "nbformat": 4,
 "nbformat_minor": 2
}
