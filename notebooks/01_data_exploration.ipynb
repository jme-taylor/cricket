{
 "cells": [
  {
   "cell_type": "code",
   "execution_count": 1,
   "metadata": {},
   "outputs": [],
   "source": [
    "import polars as pl\n",
    "\n",
    "from cricket.constants import DATA_FOLDER"
   ]
  },
  {
   "cell_type": "code",
   "execution_count": 2,
   "metadata": {},
   "outputs": [
    {
     "data": {
      "text/html": [
       "<div><style>\n",
       ".dataframe > thead > tr,\n",
       ".dataframe > tbody > tr {\n",
       "  text-align: right;\n",
       "  white-space: pre-wrap;\n",
       "}\n",
       "</style>\n",
       "<small>shape: (5, 28)</small><table border=\"1\" class=\"dataframe\"><thead><tr><th>batter</th><th>non_striker</th><th>runs</th><th>batter_runs</th><th>extras</th><th>bowler</th><th>wides</th><th>noballs</th><th>byes</th><th>legbyes</th><th>penalty</th><th>player_out_1</th><th>kind_1</th><th>player_out_2</th><th>kind_2</th><th>over_num</th><th>ball_num_including_extras</th><th>ball_num</th><th>delivery</th><th>team</th><th>innings_number</th><th>powerplay</th><th>target_runs</th><th>target_overs</th><th>match_id</th><th>batter_id</th><th>non_striker_id</th><th>bowler_id</th></tr><tr><td>str</td><td>str</td><td>i64</td><td>i64</td><td>i64</td><td>str</td><td>i64</td><td>i64</td><td>i64</td><td>i64</td><td>i64</td><td>str</td><td>str</td><td>str</td><td>str</td><td>i64</td><td>i64</td><td>i64</td><td>f64</td><td>str</td><td>i64</td><td>bool</td><td>i64</td><td>f64</td><td>str</td><td>str</td><td>str</td><td>str</td></tr></thead><tbody><tr><td>&quot;AN Kervezee&quot;</td><td>&quot;ES Szwarczynsk…</td><td>1</td><td>1</td><td>0</td><td>&quot;NN Odhiambo&quot;</td><td>0</td><td>0</td><td>0</td><td>0</td><td>0</td><td>&quot;&quot;</td><td>&quot;&quot;</td><td>&quot;&quot;</td><td>&quot;&quot;</td><td>0</td><td>1</td><td>1</td><td>0.1</td><td>&quot;Netherlands&quot;</td><td>1</td><td>false</td><td>0</td><td>0.0</td><td>&quot;438938&quot;</td><td>&quot;dc36a6a5&quot;</td><td>&quot;6a7239a7&quot;</td><td>&quot;753b5a2d&quot;</td></tr><tr><td>&quot;ES Szwarczynsk…</td><td>&quot;AN Kervezee&quot;</td><td>1</td><td>0</td><td>1</td><td>&quot;NN Odhiambo&quot;</td><td>0</td><td>0</td><td>0</td><td>1</td><td>0</td><td>&quot;&quot;</td><td>&quot;&quot;</td><td>&quot;&quot;</td><td>&quot;&quot;</td><td>0</td><td>2</td><td>2</td><td>0.2</td><td>&quot;Netherlands&quot;</td><td>1</td><td>false</td><td>0</td><td>0.0</td><td>&quot;438938&quot;</td><td>&quot;6a7239a7&quot;</td><td>&quot;dc36a6a5&quot;</td><td>&quot;753b5a2d&quot;</td></tr><tr><td>&quot;AN Kervezee&quot;</td><td>&quot;ES Szwarczynsk…</td><td>0</td><td>0</td><td>0</td><td>&quot;NN Odhiambo&quot;</td><td>0</td><td>0</td><td>0</td><td>0</td><td>0</td><td>&quot;&quot;</td><td>&quot;&quot;</td><td>&quot;&quot;</td><td>&quot;&quot;</td><td>0</td><td>3</td><td>3</td><td>0.3</td><td>&quot;Netherlands&quot;</td><td>1</td><td>false</td><td>0</td><td>0.0</td><td>&quot;438938&quot;</td><td>&quot;dc36a6a5&quot;</td><td>&quot;6a7239a7&quot;</td><td>&quot;753b5a2d&quot;</td></tr><tr><td>&quot;AN Kervezee&quot;</td><td>&quot;ES Szwarczynsk…</td><td>4</td><td>4</td><td>0</td><td>&quot;NN Odhiambo&quot;</td><td>0</td><td>0</td><td>0</td><td>0</td><td>0</td><td>&quot;&quot;</td><td>&quot;&quot;</td><td>&quot;&quot;</td><td>&quot;&quot;</td><td>0</td><td>4</td><td>4</td><td>0.4</td><td>&quot;Netherlands&quot;</td><td>1</td><td>false</td><td>0</td><td>0.0</td><td>&quot;438938&quot;</td><td>&quot;dc36a6a5&quot;</td><td>&quot;6a7239a7&quot;</td><td>&quot;753b5a2d&quot;</td></tr><tr><td>&quot;AN Kervezee&quot;</td><td>&quot;ES Szwarczynsk…</td><td>0</td><td>0</td><td>0</td><td>&quot;NN Odhiambo&quot;</td><td>0</td><td>0</td><td>0</td><td>0</td><td>0</td><td>&quot;&quot;</td><td>&quot;&quot;</td><td>&quot;&quot;</td><td>&quot;&quot;</td><td>0</td><td>5</td><td>5</td><td>0.5</td><td>&quot;Netherlands&quot;</td><td>1</td><td>false</td><td>0</td><td>0.0</td><td>&quot;438938&quot;</td><td>&quot;dc36a6a5&quot;</td><td>&quot;6a7239a7&quot;</td><td>&quot;753b5a2d&quot;</td></tr></tbody></table></div>"
      ],
      "text/plain": [
       "shape: (5, 28)\n",
       "┌─────────────┬────────────┬──────┬────────────┬───┬──────────┬───────────┬────────────┬───────────┐\n",
       "│ batter      ┆ non_strike ┆ runs ┆ batter_run ┆ … ┆ match_id ┆ batter_id ┆ non_strike ┆ bowler_id │\n",
       "│ ---         ┆ r          ┆ ---  ┆ s          ┆   ┆ ---      ┆ ---       ┆ r_id       ┆ ---       │\n",
       "│ str         ┆ ---        ┆ i64  ┆ ---        ┆   ┆ str      ┆ str       ┆ ---        ┆ str       │\n",
       "│             ┆ str        ┆      ┆ i64        ┆   ┆          ┆           ┆ str        ┆           │\n",
       "╞═════════════╪════════════╪══════╪════════════╪═══╪══════════╪═══════════╪════════════╪═══════════╡\n",
       "│ AN Kervezee ┆ ES Szwarcz ┆ 1    ┆ 1          ┆ … ┆ 438938   ┆ dc36a6a5  ┆ 6a7239a7   ┆ 753b5a2d  │\n",
       "│             ┆ ynski      ┆      ┆            ┆   ┆          ┆           ┆            ┆           │\n",
       "│ ES Szwarczy ┆ AN         ┆ 1    ┆ 0          ┆ … ┆ 438938   ┆ 6a7239a7  ┆ dc36a6a5   ┆ 753b5a2d  │\n",
       "│ nski        ┆ Kervezee   ┆      ┆            ┆   ┆          ┆           ┆            ┆           │\n",
       "│ AN Kervezee ┆ ES Szwarcz ┆ 0    ┆ 0          ┆ … ┆ 438938   ┆ dc36a6a5  ┆ 6a7239a7   ┆ 753b5a2d  │\n",
       "│             ┆ ynski      ┆      ┆            ┆   ┆          ┆           ┆            ┆           │\n",
       "│ AN Kervezee ┆ ES Szwarcz ┆ 4    ┆ 4          ┆ … ┆ 438938   ┆ dc36a6a5  ┆ 6a7239a7   ┆ 753b5a2d  │\n",
       "│             ┆ ynski      ┆      ┆            ┆   ┆          ┆           ┆            ┆           │\n",
       "│ AN Kervezee ┆ ES Szwarcz ┆ 0    ┆ 0          ┆ … ┆ 438938   ┆ dc36a6a5  ┆ 6a7239a7   ┆ 753b5a2d  │\n",
       "│             ┆ ynski      ┆      ┆            ┆   ┆          ┆           ┆            ┆           │\n",
       "└─────────────┴────────────┴──────┴────────────┴───┴──────────┴───────────┴────────────┴───────────┘"
      ]
     },
     "execution_count": 2,
     "metadata": {},
     "output_type": "execute_result"
    }
   ],
   "source": [
    "ball_data = pl.read_parquet(DATA_FOLDER.joinpath(\"ball_level_data.parquet\"))\n",
    "ball_data.head()"
   ]
  },
  {
   "cell_type": "code",
   "execution_count": 3,
   "metadata": {},
   "outputs": [
    {
     "data": {
      "text/html": [
       "<div><style>\n",
       ".dataframe > thead > tr,\n",
       ".dataframe > tbody > tr {\n",
       "  text-align: right;\n",
       "  white-space: pre-wrap;\n",
       "}\n",
       "</style>\n",
       "<small>shape: (5, 12)</small><table border=\"1\" class=\"dataframe\"><thead><tr><th>match_id</th><th>match_type</th><th>city</th><th>venue</th><th>balls_per_over</th><th>gender</th><th>start_date</th><th>end_date</th><th>team_1</th><th>team_2</th><th>toss_winner</th><th>toss_decision</th></tr><tr><td>str</td><td>str</td><td>str</td><td>str</td><td>i64</td><td>str</td><td>datetime[μs]</td><td>datetime[μs]</td><td>str</td><td>str</td><td>str</td><td>str</td></tr></thead><tbody><tr><td>&quot;438938&quot;</td><td>&quot;MDM&quot;</td><td>&quot;Nairobi&quot;</td><td>&quot;Gymkhana Club …</td><td>6</td><td>&quot;male&quot;</td><td>2010-02-20 00:00:00</td><td>2010-02-23 00:00:00</td><td>&quot;Netherlands&quot;</td><td>&quot;Kenya&quot;</td><td>&quot;Netherlands&quot;</td><td>&quot;bat&quot;</td></tr><tr><td>&quot;1387601&quot;</td><td>&quot;ODI&quot;</td><td>&quot;Gqeberha&quot;</td><td>&quot;St George&#x27;s Pa…</td><td>6</td><td>&quot;male&quot;</td><td>2023-12-19 00:00:00</td><td>2023-12-19 00:00:00</td><td>&quot;India&quot;</td><td>&quot;South Africa&quot;</td><td>&quot;South Africa&quot;</td><td>&quot;field&quot;</td></tr><tr><td>&quot;1339605&quot;</td><td>&quot;T20&quot;</td><td>&quot;Centurion&quot;</td><td>&quot;SuperSport Par…</td><td>6</td><td>&quot;male&quot;</td><td>2023-03-26 00:00:00</td><td>2023-03-26 00:00:00</td><td>&quot;West Indies&quot;</td><td>&quot;South Africa&quot;</td><td>&quot;South Africa&quot;</td><td>&quot;field&quot;</td></tr><tr><td>&quot;1223869&quot;</td><td>&quot;Test&quot;</td><td>&quot;Adelaide&quot;</td><td>&quot;Adelaide Oval&quot;</td><td>6</td><td>&quot;male&quot;</td><td>2020-12-17 00:00:00</td><td>2020-12-19 00:00:00</td><td>&quot;India&quot;</td><td>&quot;Australia&quot;</td><td>&quot;India&quot;</td><td>&quot;bat&quot;</td></tr><tr><td>&quot;1167298&quot;</td><td>&quot;T20&quot;</td><td>&quot;Brighton&quot;</td><td>&quot;County Ground,…</td><td>6</td><td>&quot;female&quot;</td><td>2019-09-01 00:00:00</td><td>2019-09-01 00:00:00</td><td>&quot;Loughborough L…</td><td>&quot;Southern Viper…</td><td>&quot;Loughborough L…</td><td>&quot;bat&quot;</td></tr></tbody></table></div>"
      ],
      "text/plain": [
       "shape: (5, 12)\n",
       "┌──────────┬───────────┬───────────┬───────────┬───┬───────────┬───────────┬───────────┬───────────┐\n",
       "│ match_id ┆ match_typ ┆ city      ┆ venue     ┆ … ┆ team_1    ┆ team_2    ┆ toss_winn ┆ toss_deci │\n",
       "│ ---      ┆ e         ┆ ---       ┆ ---       ┆   ┆ ---       ┆ ---       ┆ er        ┆ sion      │\n",
       "│ str      ┆ ---       ┆ str       ┆ str       ┆   ┆ str       ┆ str       ┆ ---       ┆ ---       │\n",
       "│          ┆ str       ┆           ┆           ┆   ┆           ┆           ┆ str       ┆ str       │\n",
       "╞══════════╪═══════════╪═══════════╪═══════════╪═══╪═══════════╪═══════════╪═══════════╪═══════════╡\n",
       "│ 438938   ┆ MDM       ┆ Nairobi   ┆ Gymkhana  ┆ … ┆ Netherlan ┆ Kenya     ┆ Netherlan ┆ bat       │\n",
       "│          ┆           ┆           ┆ Club      ┆   ┆ ds        ┆           ┆ ds        ┆           │\n",
       "│          ┆           ┆           ┆ Ground    ┆   ┆           ┆           ┆           ┆           │\n",
       "│ 1387601  ┆ ODI       ┆ Gqeberha  ┆ St        ┆ … ┆ India     ┆ South     ┆ South     ┆ field     │\n",
       "│          ┆           ┆           ┆ George's  ┆   ┆           ┆ Africa    ┆ Africa    ┆           │\n",
       "│          ┆           ┆           ┆ Park,     ┆   ┆           ┆           ┆           ┆           │\n",
       "│          ┆           ┆           ┆ Gqeberha  ┆   ┆           ┆           ┆           ┆           │\n",
       "│ 1339605  ┆ T20       ┆ Centurion ┆ SuperSpor ┆ … ┆ West      ┆ South     ┆ South     ┆ field     │\n",
       "│          ┆           ┆           ┆ t Park,   ┆   ┆ Indies    ┆ Africa    ┆ Africa    ┆           │\n",
       "│          ┆           ┆           ┆ Centurion ┆   ┆           ┆           ┆           ┆           │\n",
       "│ 1223869  ┆ Test      ┆ Adelaide  ┆ Adelaide  ┆ … ┆ India     ┆ Australia ┆ India     ┆ bat       │\n",
       "│          ┆           ┆           ┆ Oval      ┆   ┆           ┆           ┆           ┆           │\n",
       "│ 1167298  ┆ T20       ┆ Brighton  ┆ County    ┆ … ┆ Loughboro ┆ Southern  ┆ Loughboro ┆ bat       │\n",
       "│          ┆           ┆           ┆ Ground,   ┆   ┆ ugh       ┆ Vipers    ┆ ugh       ┆           │\n",
       "│          ┆           ┆           ┆ Hove      ┆   ┆ Lightning ┆           ┆ Lightning ┆           │\n",
       "└──────────┴───────────┴───────────┴───────────┴───┴───────────┴───────────┴───────────┴───────────┘"
      ]
     },
     "execution_count": 3,
     "metadata": {},
     "output_type": "execute_result"
    }
   ],
   "source": [
    "match_metadata = pl.read_parquet(DATA_FOLDER.joinpath(\"match_metadata.parquet\"))\n",
    "match_metadata.head()"
   ]
  },
  {
   "cell_type": "code",
   "execution_count": 5,
   "metadata": {},
   "outputs": [
    {
     "data": {
      "text/html": [
       "<div><style>\n",
       ".dataframe > thead > tr,\n",
       ".dataframe > tbody > tr {\n",
       "  text-align: right;\n",
       "  white-space: pre-wrap;\n",
       "}\n",
       "</style>\n",
       "<small>shape: (5, 28)</small><table border=\"1\" class=\"dataframe\"><thead><tr><th>batter</th><th>non_striker</th><th>runs</th><th>batter_runs</th><th>extras</th><th>bowler</th><th>wides</th><th>noballs</th><th>byes</th><th>legbyes</th><th>penalty</th><th>player_out_1</th><th>kind_1</th><th>player_out_2</th><th>kind_2</th><th>over_num</th><th>ball_num_including_extras</th><th>ball_num</th><th>delivery</th><th>team</th><th>innings_number</th><th>powerplay</th><th>target_runs</th><th>target_overs</th><th>match_id</th><th>batter_id</th><th>non_striker_id</th><th>bowler_id</th></tr><tr><td>str</td><td>str</td><td>i64</td><td>i64</td><td>i64</td><td>str</td><td>i64</td><td>i64</td><td>i64</td><td>i64</td><td>i64</td><td>str</td><td>str</td><td>str</td><td>str</td><td>i64</td><td>i64</td><td>i64</td><td>f64</td><td>str</td><td>i64</td><td>bool</td><td>i64</td><td>f64</td><td>str</td><td>str</td><td>str</td><td>str</td></tr></thead><tbody><tr><td>&quot;JE Root&quot;</td><td>&quot;JM Bairstow&quot;</td><td>0</td><td>0</td><td>0</td><td>&quot;PM Pushpakumar…</td><td>0</td><td>0</td><td>0</td><td>0</td><td>0</td><td>&quot;&quot;</td><td>&quot;&quot;</td><td>&quot;&quot;</td><td>&quot;&quot;</td><td>10</td><td>6</td><td>6</td><td>10.6</td><td>&quot;England&quot;</td><td>1</td><td>false</td><td>0</td><td>0.0</td><td>&quot;1140387&quot;</td><td>&quot;a343262c&quot;</td><td>&quot;abb83e27&quot;</td><td>&quot;b529630e&quot;</td></tr><tr><td>&quot;JE Root&quot;</td><td>&quot;JM Bairstow&quot;</td><td>1</td><td>1</td><td>0</td><td>&quot;PADLR Sandakan…</td><td>0</td><td>0</td><td>0</td><td>0</td><td>0</td><td>&quot;&quot;</td><td>&quot;&quot;</td><td>&quot;&quot;</td><td>&quot;&quot;</td><td>11</td><td>4</td><td>4</td><td>11.4</td><td>&quot;England&quot;</td><td>1</td><td>false</td><td>0</td><td>0.0</td><td>&quot;1140387&quot;</td><td>&quot;a343262c&quot;</td><td>&quot;abb83e27&quot;</td><td>&quot;79aad751&quot;</td></tr><tr><td>&quot;JE Root&quot;</td><td>&quot;JM Bairstow&quot;</td><td>0</td><td>0</td><td>0</td><td>&quot;PM Pushpakumar…</td><td>0</td><td>0</td><td>0</td><td>0</td><td>0</td><td>&quot;&quot;</td><td>&quot;&quot;</td><td>&quot;&quot;</td><td>&quot;&quot;</td><td>12</td><td>1</td><td>1</td><td>12.1</td><td>&quot;England&quot;</td><td>1</td><td>false</td><td>0</td><td>0.0</td><td>&quot;1140387&quot;</td><td>&quot;a343262c&quot;</td><td>&quot;abb83e27&quot;</td><td>&quot;b529630e&quot;</td></tr><tr><td>&quot;JE Root&quot;</td><td>&quot;JM Bairstow&quot;</td><td>0</td><td>0</td><td>0</td><td>&quot;PM Pushpakumar…</td><td>0</td><td>0</td><td>0</td><td>0</td><td>0</td><td>&quot;&quot;</td><td>&quot;&quot;</td><td>&quot;&quot;</td><td>&quot;&quot;</td><td>12</td><td>2</td><td>2</td><td>12.2</td><td>&quot;England&quot;</td><td>1</td><td>false</td><td>0</td><td>0.0</td><td>&quot;1140387&quot;</td><td>&quot;a343262c&quot;</td><td>&quot;abb83e27&quot;</td><td>&quot;b529630e&quot;</td></tr><tr><td>&quot;JE Root&quot;</td><td>&quot;JM Bairstow&quot;</td><td>0</td><td>0</td><td>0</td><td>&quot;PM Pushpakumar…</td><td>0</td><td>0</td><td>0</td><td>0</td><td>0</td><td>&quot;&quot;</td><td>&quot;&quot;</td><td>&quot;&quot;</td><td>&quot;&quot;</td><td>12</td><td>3</td><td>3</td><td>12.3</td><td>&quot;England&quot;</td><td>1</td><td>false</td><td>0</td><td>0.0</td><td>&quot;1140387&quot;</td><td>&quot;a343262c&quot;</td><td>&quot;abb83e27&quot;</td><td>&quot;b529630e&quot;</td></tr></tbody></table></div>"
      ],
      "text/plain": [
       "shape: (5, 28)\n",
       "┌─────────┬─────────────┬──────┬─────────────┬───┬──────────┬───────────┬──────────────┬───────────┐\n",
       "│ batter  ┆ non_striker ┆ runs ┆ batter_runs ┆ … ┆ match_id ┆ batter_id ┆ non_striker_ ┆ bowler_id │\n",
       "│ ---     ┆ ---         ┆ ---  ┆ ---         ┆   ┆ ---      ┆ ---       ┆ id           ┆ ---       │\n",
       "│ str     ┆ str         ┆ i64  ┆ i64         ┆   ┆ str      ┆ str       ┆ ---          ┆ str       │\n",
       "│         ┆             ┆      ┆             ┆   ┆          ┆           ┆ str          ┆           │\n",
       "╞═════════╪═════════════╪══════╪═════════════╪═══╪══════════╪═══════════╪══════════════╪═══════════╡\n",
       "│ JE Root ┆ JM Bairstow ┆ 0    ┆ 0           ┆ … ┆ 1140387  ┆ a343262c  ┆ abb83e27     ┆ b529630e  │\n",
       "│ JE Root ┆ JM Bairstow ┆ 1    ┆ 1           ┆ … ┆ 1140387  ┆ a343262c  ┆ abb83e27     ┆ 79aad751  │\n",
       "│ JE Root ┆ JM Bairstow ┆ 0    ┆ 0           ┆ … ┆ 1140387  ┆ a343262c  ┆ abb83e27     ┆ b529630e  │\n",
       "│ JE Root ┆ JM Bairstow ┆ 0    ┆ 0           ┆ … ┆ 1140387  ┆ a343262c  ┆ abb83e27     ┆ b529630e  │\n",
       "│ JE Root ┆ JM Bairstow ┆ 0    ┆ 0           ┆ … ┆ 1140387  ┆ a343262c  ┆ abb83e27     ┆ b529630e  │\n",
       "└─────────┴─────────────┴──────┴─────────────┴───┴──────────┴───────────┴──────────────┴───────────┘"
      ]
     },
     "execution_count": 5,
     "metadata": {},
     "output_type": "execute_result"
    }
   ],
   "source": [
    "joe_root = ball_data.filter(pl.col(\"batter\") == \"JE Root\")\n",
    "joe_root.head()"
   ]
  },
  {
   "cell_type": "code",
   "execution_count": 6,
   "metadata": {},
   "outputs": [
    {
     "data": {
      "text/html": [
       "<div><style>\n",
       ".dataframe > thead > tr,\n",
       ".dataframe > tbody > tr {\n",
       "  text-align: right;\n",
       "  white-space: pre-wrap;\n",
       "}\n",
       "</style>\n",
       "<small>shape: (5, 39)</small><table border=\"1\" class=\"dataframe\"><thead><tr><th>batter</th><th>non_striker</th><th>runs</th><th>batter_runs</th><th>extras</th><th>bowler</th><th>wides</th><th>noballs</th><th>byes</th><th>legbyes</th><th>penalty</th><th>player_out_1</th><th>kind_1</th><th>player_out_2</th><th>kind_2</th><th>over_num</th><th>ball_num_including_extras</th><th>ball_num</th><th>delivery</th><th>team</th><th>innings_number</th><th>powerplay</th><th>target_runs</th><th>target_overs</th><th>match_id</th><th>batter_id</th><th>non_striker_id</th><th>bowler_id</th><th>match_type</th><th>city</th><th>venue</th><th>balls_per_over</th><th>gender</th><th>start_date</th><th>end_date</th><th>team_1</th><th>team_2</th><th>toss_winner</th><th>toss_decision</th></tr><tr><td>str</td><td>str</td><td>i64</td><td>i64</td><td>i64</td><td>str</td><td>i64</td><td>i64</td><td>i64</td><td>i64</td><td>i64</td><td>str</td><td>str</td><td>str</td><td>str</td><td>i64</td><td>i64</td><td>i64</td><td>f64</td><td>str</td><td>i64</td><td>bool</td><td>i64</td><td>f64</td><td>str</td><td>str</td><td>str</td><td>str</td><td>str</td><td>str</td><td>str</td><td>i64</td><td>str</td><td>datetime[μs]</td><td>datetime[μs]</td><td>str</td><td>str</td><td>str</td><td>str</td></tr></thead><tbody><tr><td>&quot;JE Root&quot;</td><td>&quot;JM Bairstow&quot;</td><td>0</td><td>0</td><td>0</td><td>&quot;PM Pushpakumar…</td><td>0</td><td>0</td><td>0</td><td>0</td><td>0</td><td>&quot;&quot;</td><td>&quot;&quot;</td><td>&quot;&quot;</td><td>&quot;&quot;</td><td>10</td><td>6</td><td>6</td><td>10.6</td><td>&quot;England&quot;</td><td>1</td><td>false</td><td>0</td><td>0.0</td><td>&quot;1140387&quot;</td><td>&quot;a343262c&quot;</td><td>&quot;abb83e27&quot;</td><td>&quot;b529630e&quot;</td><td>&quot;Test&quot;</td><td>&quot;Colombo&quot;</td><td>&quot;Sinhalese Spor…</td><td>6</td><td>&quot;male&quot;</td><td>2018-11-23 00:00:00</td><td>2018-11-26 00:00:00</td><td>&quot;England&quot;</td><td>&quot;Sri Lanka&quot;</td><td>&quot;England&quot;</td><td>&quot;bat&quot;</td></tr><tr><td>&quot;JE Root&quot;</td><td>&quot;JM Bairstow&quot;</td><td>1</td><td>1</td><td>0</td><td>&quot;PADLR Sandakan…</td><td>0</td><td>0</td><td>0</td><td>0</td><td>0</td><td>&quot;&quot;</td><td>&quot;&quot;</td><td>&quot;&quot;</td><td>&quot;&quot;</td><td>11</td><td>4</td><td>4</td><td>11.4</td><td>&quot;England&quot;</td><td>1</td><td>false</td><td>0</td><td>0.0</td><td>&quot;1140387&quot;</td><td>&quot;a343262c&quot;</td><td>&quot;abb83e27&quot;</td><td>&quot;79aad751&quot;</td><td>&quot;Test&quot;</td><td>&quot;Colombo&quot;</td><td>&quot;Sinhalese Spor…</td><td>6</td><td>&quot;male&quot;</td><td>2018-11-23 00:00:00</td><td>2018-11-26 00:00:00</td><td>&quot;England&quot;</td><td>&quot;Sri Lanka&quot;</td><td>&quot;England&quot;</td><td>&quot;bat&quot;</td></tr><tr><td>&quot;JE Root&quot;</td><td>&quot;JM Bairstow&quot;</td><td>0</td><td>0</td><td>0</td><td>&quot;PM Pushpakumar…</td><td>0</td><td>0</td><td>0</td><td>0</td><td>0</td><td>&quot;&quot;</td><td>&quot;&quot;</td><td>&quot;&quot;</td><td>&quot;&quot;</td><td>12</td><td>1</td><td>1</td><td>12.1</td><td>&quot;England&quot;</td><td>1</td><td>false</td><td>0</td><td>0.0</td><td>&quot;1140387&quot;</td><td>&quot;a343262c&quot;</td><td>&quot;abb83e27&quot;</td><td>&quot;b529630e&quot;</td><td>&quot;Test&quot;</td><td>&quot;Colombo&quot;</td><td>&quot;Sinhalese Spor…</td><td>6</td><td>&quot;male&quot;</td><td>2018-11-23 00:00:00</td><td>2018-11-26 00:00:00</td><td>&quot;England&quot;</td><td>&quot;Sri Lanka&quot;</td><td>&quot;England&quot;</td><td>&quot;bat&quot;</td></tr><tr><td>&quot;JE Root&quot;</td><td>&quot;JM Bairstow&quot;</td><td>0</td><td>0</td><td>0</td><td>&quot;PM Pushpakumar…</td><td>0</td><td>0</td><td>0</td><td>0</td><td>0</td><td>&quot;&quot;</td><td>&quot;&quot;</td><td>&quot;&quot;</td><td>&quot;&quot;</td><td>12</td><td>2</td><td>2</td><td>12.2</td><td>&quot;England&quot;</td><td>1</td><td>false</td><td>0</td><td>0.0</td><td>&quot;1140387&quot;</td><td>&quot;a343262c&quot;</td><td>&quot;abb83e27&quot;</td><td>&quot;b529630e&quot;</td><td>&quot;Test&quot;</td><td>&quot;Colombo&quot;</td><td>&quot;Sinhalese Spor…</td><td>6</td><td>&quot;male&quot;</td><td>2018-11-23 00:00:00</td><td>2018-11-26 00:00:00</td><td>&quot;England&quot;</td><td>&quot;Sri Lanka&quot;</td><td>&quot;England&quot;</td><td>&quot;bat&quot;</td></tr><tr><td>&quot;JE Root&quot;</td><td>&quot;JM Bairstow&quot;</td><td>0</td><td>0</td><td>0</td><td>&quot;PM Pushpakumar…</td><td>0</td><td>0</td><td>0</td><td>0</td><td>0</td><td>&quot;&quot;</td><td>&quot;&quot;</td><td>&quot;&quot;</td><td>&quot;&quot;</td><td>12</td><td>3</td><td>3</td><td>12.3</td><td>&quot;England&quot;</td><td>1</td><td>false</td><td>0</td><td>0.0</td><td>&quot;1140387&quot;</td><td>&quot;a343262c&quot;</td><td>&quot;abb83e27&quot;</td><td>&quot;b529630e&quot;</td><td>&quot;Test&quot;</td><td>&quot;Colombo&quot;</td><td>&quot;Sinhalese Spor…</td><td>6</td><td>&quot;male&quot;</td><td>2018-11-23 00:00:00</td><td>2018-11-26 00:00:00</td><td>&quot;England&quot;</td><td>&quot;Sri Lanka&quot;</td><td>&quot;England&quot;</td><td>&quot;bat&quot;</td></tr></tbody></table></div>"
      ],
      "text/plain": [
       "shape: (5, 39)\n",
       "┌─────────┬─────────────┬──────┬─────────────┬───┬─────────┬───────────┬─────────────┬─────────────┐\n",
       "│ batter  ┆ non_striker ┆ runs ┆ batter_runs ┆ … ┆ team_1  ┆ team_2    ┆ toss_winner ┆ toss_decisi │\n",
       "│ ---     ┆ ---         ┆ ---  ┆ ---         ┆   ┆ ---     ┆ ---       ┆ ---         ┆ on          │\n",
       "│ str     ┆ str         ┆ i64  ┆ i64         ┆   ┆ str     ┆ str       ┆ str         ┆ ---         │\n",
       "│         ┆             ┆      ┆             ┆   ┆         ┆           ┆             ┆ str         │\n",
       "╞═════════╪═════════════╪══════╪═════════════╪═══╪═════════╪═══════════╪═════════════╪═════════════╡\n",
       "│ JE Root ┆ JM Bairstow ┆ 0    ┆ 0           ┆ … ┆ England ┆ Sri Lanka ┆ England     ┆ bat         │\n",
       "│ JE Root ┆ JM Bairstow ┆ 1    ┆ 1           ┆ … ┆ England ┆ Sri Lanka ┆ England     ┆ bat         │\n",
       "│ JE Root ┆ JM Bairstow ┆ 0    ┆ 0           ┆ … ┆ England ┆ Sri Lanka ┆ England     ┆ bat         │\n",
       "│ JE Root ┆ JM Bairstow ┆ 0    ┆ 0           ┆ … ┆ England ┆ Sri Lanka ┆ England     ┆ bat         │\n",
       "│ JE Root ┆ JM Bairstow ┆ 0    ┆ 0           ┆ … ┆ England ┆ Sri Lanka ┆ England     ┆ bat         │\n",
       "└─────────┴─────────────┴──────┴─────────────┴───┴─────────┴───────────┴─────────────┴─────────────┘"
      ]
     },
     "execution_count": 6,
     "metadata": {},
     "output_type": "execute_result"
    }
   ],
   "source": [
    "joe_root_with_metadata = joe_root.join(match_metadata, on=\"match_id\")\n",
    "joe_root_with_metadata.head()"
   ]
  },
  {
   "cell_type": "code",
   "execution_count": 7,
   "metadata": {},
   "outputs": [
    {
     "data": {
      "text/html": [
       "<div><style>\n",
       ".dataframe > thead > tr,\n",
       ".dataframe > tbody > tr {\n",
       "  text-align: right;\n",
       "  white-space: pre-wrap;\n",
       "}\n",
       "</style>\n",
       "<small>shape: (5, 39)</small><table border=\"1\" class=\"dataframe\"><thead><tr><th>batter</th><th>non_striker</th><th>runs</th><th>batter_runs</th><th>extras</th><th>bowler</th><th>wides</th><th>noballs</th><th>byes</th><th>legbyes</th><th>penalty</th><th>player_out_1</th><th>kind_1</th><th>player_out_2</th><th>kind_2</th><th>over_num</th><th>ball_num_including_extras</th><th>ball_num</th><th>delivery</th><th>team</th><th>innings_number</th><th>powerplay</th><th>target_runs</th><th>target_overs</th><th>match_id</th><th>batter_id</th><th>non_striker_id</th><th>bowler_id</th><th>match_type</th><th>city</th><th>venue</th><th>balls_per_over</th><th>gender</th><th>start_date</th><th>end_date</th><th>team_1</th><th>team_2</th><th>toss_winner</th><th>toss_decision</th></tr><tr><td>str</td><td>str</td><td>i64</td><td>i64</td><td>i64</td><td>str</td><td>i64</td><td>i64</td><td>i64</td><td>i64</td><td>i64</td><td>str</td><td>str</td><td>str</td><td>str</td><td>i64</td><td>i64</td><td>i64</td><td>f64</td><td>str</td><td>i64</td><td>bool</td><td>i64</td><td>f64</td><td>str</td><td>str</td><td>str</td><td>str</td><td>str</td><td>str</td><td>str</td><td>i64</td><td>str</td><td>datetime[μs]</td><td>datetime[μs]</td><td>str</td><td>str</td><td>str</td><td>str</td></tr></thead><tbody><tr><td>&quot;JE Root&quot;</td><td>&quot;JM Bairstow&quot;</td><td>0</td><td>0</td><td>0</td><td>&quot;PM Pushpakumar…</td><td>0</td><td>0</td><td>0</td><td>0</td><td>0</td><td>&quot;&quot;</td><td>&quot;&quot;</td><td>&quot;&quot;</td><td>&quot;&quot;</td><td>10</td><td>6</td><td>6</td><td>10.6</td><td>&quot;England&quot;</td><td>1</td><td>false</td><td>0</td><td>0.0</td><td>&quot;1140387&quot;</td><td>&quot;a343262c&quot;</td><td>&quot;abb83e27&quot;</td><td>&quot;b529630e&quot;</td><td>&quot;Test&quot;</td><td>&quot;Colombo&quot;</td><td>&quot;Sinhalese Spor…</td><td>6</td><td>&quot;male&quot;</td><td>2018-11-23 00:00:00</td><td>2018-11-26 00:00:00</td><td>&quot;England&quot;</td><td>&quot;Sri Lanka&quot;</td><td>&quot;England&quot;</td><td>&quot;bat&quot;</td></tr><tr><td>&quot;JE Root&quot;</td><td>&quot;JM Bairstow&quot;</td><td>1</td><td>1</td><td>0</td><td>&quot;PADLR Sandakan…</td><td>0</td><td>0</td><td>0</td><td>0</td><td>0</td><td>&quot;&quot;</td><td>&quot;&quot;</td><td>&quot;&quot;</td><td>&quot;&quot;</td><td>11</td><td>4</td><td>4</td><td>11.4</td><td>&quot;England&quot;</td><td>1</td><td>false</td><td>0</td><td>0.0</td><td>&quot;1140387&quot;</td><td>&quot;a343262c&quot;</td><td>&quot;abb83e27&quot;</td><td>&quot;79aad751&quot;</td><td>&quot;Test&quot;</td><td>&quot;Colombo&quot;</td><td>&quot;Sinhalese Spor…</td><td>6</td><td>&quot;male&quot;</td><td>2018-11-23 00:00:00</td><td>2018-11-26 00:00:00</td><td>&quot;England&quot;</td><td>&quot;Sri Lanka&quot;</td><td>&quot;England&quot;</td><td>&quot;bat&quot;</td></tr><tr><td>&quot;JE Root&quot;</td><td>&quot;JM Bairstow&quot;</td><td>0</td><td>0</td><td>0</td><td>&quot;PM Pushpakumar…</td><td>0</td><td>0</td><td>0</td><td>0</td><td>0</td><td>&quot;&quot;</td><td>&quot;&quot;</td><td>&quot;&quot;</td><td>&quot;&quot;</td><td>12</td><td>1</td><td>1</td><td>12.1</td><td>&quot;England&quot;</td><td>1</td><td>false</td><td>0</td><td>0.0</td><td>&quot;1140387&quot;</td><td>&quot;a343262c&quot;</td><td>&quot;abb83e27&quot;</td><td>&quot;b529630e&quot;</td><td>&quot;Test&quot;</td><td>&quot;Colombo&quot;</td><td>&quot;Sinhalese Spor…</td><td>6</td><td>&quot;male&quot;</td><td>2018-11-23 00:00:00</td><td>2018-11-26 00:00:00</td><td>&quot;England&quot;</td><td>&quot;Sri Lanka&quot;</td><td>&quot;England&quot;</td><td>&quot;bat&quot;</td></tr><tr><td>&quot;JE Root&quot;</td><td>&quot;JM Bairstow&quot;</td><td>0</td><td>0</td><td>0</td><td>&quot;PM Pushpakumar…</td><td>0</td><td>0</td><td>0</td><td>0</td><td>0</td><td>&quot;&quot;</td><td>&quot;&quot;</td><td>&quot;&quot;</td><td>&quot;&quot;</td><td>12</td><td>2</td><td>2</td><td>12.2</td><td>&quot;England&quot;</td><td>1</td><td>false</td><td>0</td><td>0.0</td><td>&quot;1140387&quot;</td><td>&quot;a343262c&quot;</td><td>&quot;abb83e27&quot;</td><td>&quot;b529630e&quot;</td><td>&quot;Test&quot;</td><td>&quot;Colombo&quot;</td><td>&quot;Sinhalese Spor…</td><td>6</td><td>&quot;male&quot;</td><td>2018-11-23 00:00:00</td><td>2018-11-26 00:00:00</td><td>&quot;England&quot;</td><td>&quot;Sri Lanka&quot;</td><td>&quot;England&quot;</td><td>&quot;bat&quot;</td></tr><tr><td>&quot;JE Root&quot;</td><td>&quot;JM Bairstow&quot;</td><td>0</td><td>0</td><td>0</td><td>&quot;PM Pushpakumar…</td><td>0</td><td>0</td><td>0</td><td>0</td><td>0</td><td>&quot;&quot;</td><td>&quot;&quot;</td><td>&quot;&quot;</td><td>&quot;&quot;</td><td>12</td><td>3</td><td>3</td><td>12.3</td><td>&quot;England&quot;</td><td>1</td><td>false</td><td>0</td><td>0.0</td><td>&quot;1140387&quot;</td><td>&quot;a343262c&quot;</td><td>&quot;abb83e27&quot;</td><td>&quot;b529630e&quot;</td><td>&quot;Test&quot;</td><td>&quot;Colombo&quot;</td><td>&quot;Sinhalese Spor…</td><td>6</td><td>&quot;male&quot;</td><td>2018-11-23 00:00:00</td><td>2018-11-26 00:00:00</td><td>&quot;England&quot;</td><td>&quot;Sri Lanka&quot;</td><td>&quot;England&quot;</td><td>&quot;bat&quot;</td></tr></tbody></table></div>"
      ],
      "text/plain": [
       "shape: (5, 39)\n",
       "┌─────────┬─────────────┬──────┬─────────────┬───┬─────────┬───────────┬─────────────┬─────────────┐\n",
       "│ batter  ┆ non_striker ┆ runs ┆ batter_runs ┆ … ┆ team_1  ┆ team_2    ┆ toss_winner ┆ toss_decisi │\n",
       "│ ---     ┆ ---         ┆ ---  ┆ ---         ┆   ┆ ---     ┆ ---       ┆ ---         ┆ on          │\n",
       "│ str     ┆ str         ┆ i64  ┆ i64         ┆   ┆ str     ┆ str       ┆ str         ┆ ---         │\n",
       "│         ┆             ┆      ┆             ┆   ┆         ┆           ┆             ┆ str         │\n",
       "╞═════════╪═════════════╪══════╪═════════════╪═══╪═════════╪═══════════╪═════════════╪═════════════╡\n",
       "│ JE Root ┆ JM Bairstow ┆ 0    ┆ 0           ┆ … ┆ England ┆ Sri Lanka ┆ England     ┆ bat         │\n",
       "│ JE Root ┆ JM Bairstow ┆ 1    ┆ 1           ┆ … ┆ England ┆ Sri Lanka ┆ England     ┆ bat         │\n",
       "│ JE Root ┆ JM Bairstow ┆ 0    ┆ 0           ┆ … ┆ England ┆ Sri Lanka ┆ England     ┆ bat         │\n",
       "│ JE Root ┆ JM Bairstow ┆ 0    ┆ 0           ┆ … ┆ England ┆ Sri Lanka ┆ England     ┆ bat         │\n",
       "│ JE Root ┆ JM Bairstow ┆ 0    ┆ 0           ┆ … ┆ England ┆ Sri Lanka ┆ England     ┆ bat         │\n",
       "└─────────┴─────────────┴──────┴─────────────┴───┴─────────┴───────────┴─────────────┴─────────────┘"
      ]
     },
     "execution_count": 7,
     "metadata": {},
     "output_type": "execute_result"
    }
   ],
   "source": [
    "joe_root_tests = joe_root_with_metadata.filter(pl.col(\"match_type\") == \"Test\")\n",
    "joe_root_tests.head()"
   ]
  },
  {
   "cell_type": "code",
   "execution_count": 9,
   "metadata": {},
   "outputs": [
    {
     "data": {
      "text/html": [
       "<div><style>\n",
       ".dataframe > thead > tr,\n",
       ".dataframe > tbody > tr {\n",
       "  text-align: right;\n",
       "  white-space: pre-wrap;\n",
       "}\n",
       "</style>\n",
       "<small>shape: (5, 39)</small><table border=\"1\" class=\"dataframe\"><thead><tr><th>batter</th><th>non_striker</th><th>runs</th><th>batter_runs</th><th>extras</th><th>bowler</th><th>wides</th><th>noballs</th><th>byes</th><th>legbyes</th><th>penalty</th><th>player_out_1</th><th>kind_1</th><th>player_out_2</th><th>kind_2</th><th>over_num</th><th>ball_num_including_extras</th><th>ball_num</th><th>delivery</th><th>team</th><th>innings_number</th><th>powerplay</th><th>target_runs</th><th>target_overs</th><th>match_id</th><th>batter_id</th><th>non_striker_id</th><th>bowler_id</th><th>match_type</th><th>city</th><th>venue</th><th>balls_per_over</th><th>gender</th><th>start_date</th><th>end_date</th><th>team_1</th><th>team_2</th><th>toss_winner</th><th>toss_decision</th></tr><tr><td>str</td><td>str</td><td>i64</td><td>i64</td><td>i64</td><td>str</td><td>i64</td><td>i64</td><td>i64</td><td>i64</td><td>i64</td><td>str</td><td>str</td><td>str</td><td>str</td><td>i64</td><td>i64</td><td>i64</td><td>f64</td><td>str</td><td>i64</td><td>bool</td><td>i64</td><td>f64</td><td>str</td><td>str</td><td>str</td><td>str</td><td>str</td><td>str</td><td>str</td><td>i64</td><td>str</td><td>datetime[μs]</td><td>datetime[μs]</td><td>str</td><td>str</td><td>str</td><td>str</td></tr></thead><tbody><tr><td>&quot;JE Root&quot;</td><td>&quot;KP Pietersen&quot;</td><td>0</td><td>0</td><td>0</td><td>&quot;PP Chawla&quot;</td><td>0</td><td>0</td><td>0</td><td>0</td><td>0</td><td>&quot;&quot;</td><td>&quot;&quot;</td><td>&quot;&quot;</td><td>&quot;&quot;</td><td>60</td><td>6</td><td>6</td><td>60.6</td><td>&quot;England&quot;</td><td>1</td><td>false</td><td>0</td><td>0.0</td><td>&quot;565809&quot;</td><td>&quot;a343262c&quot;</td><td>&quot;39f01cdb&quot;</td><td>&quot;98ae73b1&quot;</td><td>&quot;Test&quot;</td><td>&quot;Nagpur&quot;</td><td>&quot;Vidarbha Crick…</td><td>6</td><td>&quot;male&quot;</td><td>2012-12-13 00:00:00</td><td>2012-12-17 00:00:00</td><td>&quot;India&quot;</td><td>&quot;England&quot;</td><td>&quot;England&quot;</td><td>&quot;bat&quot;</td></tr><tr><td>&quot;JE Root&quot;</td><td>&quot;KP Pietersen&quot;</td><td>0</td><td>0</td><td>0</td><td>&quot;PP Chawla&quot;</td><td>0</td><td>0</td><td>0</td><td>0</td><td>0</td><td>&quot;&quot;</td><td>&quot;&quot;</td><td>&quot;&quot;</td><td>&quot;&quot;</td><td>62</td><td>1</td><td>1</td><td>62.1</td><td>&quot;England&quot;</td><td>1</td><td>false</td><td>0</td><td>0.0</td><td>&quot;565809&quot;</td><td>&quot;a343262c&quot;</td><td>&quot;39f01cdb&quot;</td><td>&quot;98ae73b1&quot;</td><td>&quot;Test&quot;</td><td>&quot;Nagpur&quot;</td><td>&quot;Vidarbha Crick…</td><td>6</td><td>&quot;male&quot;</td><td>2012-12-13 00:00:00</td><td>2012-12-17 00:00:00</td><td>&quot;India&quot;</td><td>&quot;England&quot;</td><td>&quot;England&quot;</td><td>&quot;bat&quot;</td></tr><tr><td>&quot;JE Root&quot;</td><td>&quot;KP Pietersen&quot;</td><td>3</td><td>3</td><td>0</td><td>&quot;PP Chawla&quot;</td><td>0</td><td>0</td><td>0</td><td>0</td><td>0</td><td>&quot;&quot;</td><td>&quot;&quot;</td><td>&quot;&quot;</td><td>&quot;&quot;</td><td>62</td><td>2</td><td>2</td><td>62.2</td><td>&quot;England&quot;</td><td>1</td><td>false</td><td>0</td><td>0.0</td><td>&quot;565809&quot;</td><td>&quot;a343262c&quot;</td><td>&quot;39f01cdb&quot;</td><td>&quot;98ae73b1&quot;</td><td>&quot;Test&quot;</td><td>&quot;Nagpur&quot;</td><td>&quot;Vidarbha Crick…</td><td>6</td><td>&quot;male&quot;</td><td>2012-12-13 00:00:00</td><td>2012-12-17 00:00:00</td><td>&quot;India&quot;</td><td>&quot;England&quot;</td><td>&quot;England&quot;</td><td>&quot;bat&quot;</td></tr><tr><td>&quot;JE Root&quot;</td><td>&quot;KP Pietersen&quot;</td><td>0</td><td>0</td><td>0</td><td>&quot;PP Chawla&quot;</td><td>0</td><td>0</td><td>0</td><td>0</td><td>0</td><td>&quot;&quot;</td><td>&quot;&quot;</td><td>&quot;&quot;</td><td>&quot;&quot;</td><td>62</td><td>5</td><td>5</td><td>62.5</td><td>&quot;England&quot;</td><td>1</td><td>false</td><td>0</td><td>0.0</td><td>&quot;565809&quot;</td><td>&quot;a343262c&quot;</td><td>&quot;39f01cdb&quot;</td><td>&quot;98ae73b1&quot;</td><td>&quot;Test&quot;</td><td>&quot;Nagpur&quot;</td><td>&quot;Vidarbha Crick…</td><td>6</td><td>&quot;male&quot;</td><td>2012-12-13 00:00:00</td><td>2012-12-17 00:00:00</td><td>&quot;India&quot;</td><td>&quot;England&quot;</td><td>&quot;England&quot;</td><td>&quot;bat&quot;</td></tr><tr><td>&quot;JE Root&quot;</td><td>&quot;KP Pietersen&quot;</td><td>1</td><td>1</td><td>0</td><td>&quot;PP Chawla&quot;</td><td>0</td><td>0</td><td>0</td><td>0</td><td>0</td><td>&quot;&quot;</td><td>&quot;&quot;</td><td>&quot;&quot;</td><td>&quot;&quot;</td><td>62</td><td>6</td><td>6</td><td>62.6</td><td>&quot;England&quot;</td><td>1</td><td>false</td><td>0</td><td>0.0</td><td>&quot;565809&quot;</td><td>&quot;a343262c&quot;</td><td>&quot;39f01cdb&quot;</td><td>&quot;98ae73b1&quot;</td><td>&quot;Test&quot;</td><td>&quot;Nagpur&quot;</td><td>&quot;Vidarbha Crick…</td><td>6</td><td>&quot;male&quot;</td><td>2012-12-13 00:00:00</td><td>2012-12-17 00:00:00</td><td>&quot;India&quot;</td><td>&quot;England&quot;</td><td>&quot;England&quot;</td><td>&quot;bat&quot;</td></tr></tbody></table></div>"
      ],
      "text/plain": [
       "shape: (5, 39)\n",
       "┌─────────┬──────────────┬──────┬─────────────┬───┬────────┬─────────┬─────────────┬───────────────┐\n",
       "│ batter  ┆ non_striker  ┆ runs ┆ batter_runs ┆ … ┆ team_1 ┆ team_2  ┆ toss_winner ┆ toss_decision │\n",
       "│ ---     ┆ ---          ┆ ---  ┆ ---         ┆   ┆ ---    ┆ ---     ┆ ---         ┆ ---           │\n",
       "│ str     ┆ str          ┆ i64  ┆ i64         ┆   ┆ str    ┆ str     ┆ str         ┆ str           │\n",
       "╞═════════╪══════════════╪══════╪═════════════╪═══╪════════╪═════════╪═════════════╪═══════════════╡\n",
       "│ JE Root ┆ KP Pietersen ┆ 0    ┆ 0           ┆ … ┆ India  ┆ England ┆ England     ┆ bat           │\n",
       "│ JE Root ┆ KP Pietersen ┆ 0    ┆ 0           ┆ … ┆ India  ┆ England ┆ England     ┆ bat           │\n",
       "│ JE Root ┆ KP Pietersen ┆ 3    ┆ 3           ┆ … ┆ India  ┆ England ┆ England     ┆ bat           │\n",
       "│ JE Root ┆ KP Pietersen ┆ 0    ┆ 0           ┆ … ┆ India  ┆ England ┆ England     ┆ bat           │\n",
       "│ JE Root ┆ KP Pietersen ┆ 1    ┆ 1           ┆ … ┆ India  ┆ England ┆ England     ┆ bat           │\n",
       "└─────────┴──────────────┴──────┴─────────────┴───┴────────┴─────────┴─────────────┴───────────────┘"
      ]
     },
     "execution_count": 9,
     "metadata": {},
     "output_type": "execute_result"
    }
   ],
   "source": [
    "joe_root_tests = joe_root_tests.sort(\"start_date\")\n",
    "joe_root_tests.head()"
   ]
  }
 ],
 "metadata": {
  "kernelspec": {
   "display_name": "cricket-PWilCMmu-py3.9",
   "language": "python",
   "name": "python3"
  },
  "language_info": {
   "codemirror_mode": {
    "name": "ipython",
    "version": 3
   },
   "file_extension": ".py",
   "mimetype": "text/x-python",
   "name": "python",
   "nbconvert_exporter": "python",
   "pygments_lexer": "ipython3",
   "version": "3.9.16"
  }
 },
 "nbformat": 4,
 "nbformat_minor": 2
}
