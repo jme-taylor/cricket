{
 "cells": [
  {
   "cell_type": "markdown",
   "metadata": {},
   "source": [
    "# T20 Linear Regression Model Training\n",
    "\n",
    "This notebook implements the complete training pipeline for the T20 linear regression model with MLflow integration.\n",
    "\n",
    "## Objectives\n",
    "1. Set up MLflow experiment tracking\n",
    "2. Load and prepare T20 cricket data\n",
    "3. Train linear regression model\n",
    "4. Evaluate model performance\n",
    "5. Register model in MLflow registry\n",
    "6. Generate model artifacts and reports"
   ]
  },
  {
   "cell_type": "code",
   "execution_count": 1,
   "metadata": {},
   "outputs": [
    {
     "name": "stdout",
     "output_type": "stream",
     "text": [
      "Libraries imported successfully!\n",
      "MLflow version: 3.2.0\n"
     ]
    }
   ],
   "source": [
    "# Import required libraries\n",
    "import mlflow\n",
    "import mlflow.sklearn\n",
    "import pandas as pd\n",
    "import numpy as np\n",
    "import matplotlib.pyplot as plt\n",
    "import seaborn as sns\n",
    "from pathlib import Path\n",
    "import warnings\n",
    "\n",
    "warnings.filterwarnings(\"ignore\")\n",
    "\n",
    "# Import project modules\n",
    "from cricket.ml.training import T20TrainingPipeline\n",
    "\n",
    "# Set plotting style\n",
    "plt.style.use(\"seaborn-v0_8\")\n",
    "sns.set_palette(\"husl\")\n",
    "plt.rcParams[\"figure.figsize\"] = (12, 8)\n",
    "\n",
    "print(\"Libraries imported successfully!\")\n",
    "print(f\"MLflow version: {mlflow.__version__}\")"
   ]
  },
  {
   "cell_type": "markdown",
   "metadata": {},
   "source": [
    "## 1. MLflow Setup and Configuration"
   ]
  },
  {
   "cell_type": "code",
   "execution_count": 2,
   "metadata": {},
   "outputs": [
    {
     "name": "stdout",
     "output_type": "stream",
     "text": [
      "MLflow Tracking URI: sqlite:///../mlflow_setup/mlflow.db\n"
     ]
    },
    {
     "name": "stderr",
     "output_type": "stream",
     "text": [
      "2025/08/07 10:28:31 INFO mlflow.store.db.utils: Creating initial MLflow database tables...\n",
      "2025/08/07 10:28:31 INFO mlflow.store.db.utils: Updating database tables\n",
      "INFO  [alembic.runtime.migration] Context impl SQLiteImpl.\n",
      "INFO  [alembic.runtime.migration] Will assume non-transactional DDL.\n",
      "INFO  [alembic.runtime.migration] Context impl SQLiteImpl.\n",
      "INFO  [alembic.runtime.migration] Will assume non-transactional DDL.\n"
     ]
    },
    {
     "name": "stdout",
     "output_type": "stream",
     "text": [
      "Using existing experiment: male_team_level_t20\n",
      "Experiment ID: 1\n",
      "✓ Data file found: ../data/ball_level_data.parquet\n"
     ]
    }
   ],
   "source": [
    "# Configure MLflow\n",
    "MLFLOW_TRACKING_URI = \"sqlite:///../mlflow_setup/mlflow.db\"\n",
    "EXPERIMENT_NAME = \"male_team_level_t20\"\n",
    "DATA_PATH = \"../data/ball_level_data.parquet\"\n",
    "\n",
    "# Set MLflow tracking URI\n",
    "mlflow.set_tracking_uri(MLFLOW_TRACKING_URI)\n",
    "print(f\"MLflow Tracking URI: {mlflow.get_tracking_uri()}\")\n",
    "\n",
    "# Set or create experiment\n",
    "try:\n",
    "    experiment = mlflow.set_experiment(EXPERIMENT_NAME)\n",
    "    print(f\"Using existing experiment: {EXPERIMENT_NAME}\")\n",
    "except:\n",
    "    experiment = mlflow.create_experiment(EXPERIMENT_NAME)\n",
    "    print(f\"Created new experiment: {EXPERIMENT_NAME}\")\n",
    "\n",
    "print(f\"Experiment ID: {experiment.experiment_id}\")\n",
    "\n",
    "# Verify data file exists\n",
    "data_file = Path(DATA_PATH)\n",
    "if data_file.exists():\n",
    "    print(f\"✓ Data file found: {DATA_PATH}\")\n",
    "else:\n",
    "    print(f\"❌ Data file not found: {DATA_PATH}\")\n",
    "    print(\"Please ensure the data file exists before proceeding.\")"
   ]
  },
  {
   "cell_type": "markdown",
   "metadata": {},
   "source": [
    "## 2. Training Pipeline Setup"
   ]
  },
  {
   "cell_type": "code",
   "execution_count": 3,
   "metadata": {},
   "outputs": [
    {
     "name": "stdout",
     "output_type": "stream",
     "text": [
      "Training pipeline initialized with configuration:\n",
      "  • Data path: ../data/ball_level_data.parquet\n",
      "  • Training mode: All balls\n",
      "  • Scaling method: standard\n",
      "  • MLflow URI: sqlite:///../mlflow_setup/mlflow.db\n"
     ]
    }
   ],
   "source": [
    "# Initialize training pipeline\n",
    "pipeline = T20TrainingPipeline(\n",
    "    data_path=DATA_PATH,\n",
    "    mlflow_tracking_uri=MLFLOW_TRACKING_URI,\n",
    "    use_all_balls=True,  # Use all balls for training instead of sampling\n",
    "    scaling_method=\"standard\",  # StandardScaler for feature normalization\n",
    ")\n",
    "\n",
    "print(\"Training pipeline initialized with configuration:\")\n",
    "print(f\"  • Data path: {DATA_PATH}\")\n",
    "print(f\"  • Training mode: {'All balls' if pipeline.use_all_balls else f'Sampled at {pipeline.sample_overs}'}\")\n",
    "print(f\"  • Scaling method: {pipeline.feature_engineer.scaling_method}\")\n",
    "print(f\"  • MLflow URI: {MLFLOW_TRACKING_URI}\")"
   ]
  },
  {
   "cell_type": "markdown",
   "metadata": {},
   "source": [
    "## 3. Model Training Execution"
   ]
  },
  {
   "cell_type": "code",
   "execution_count": 4,
   "metadata": {},
   "outputs": [
    {
     "name": "stderr",
     "output_type": "stream",
     "text": [
      "2025/08/07 10:28:36 WARNING mlflow.models.model: `artifact_path` is deprecated. Please use `name` instead.\n",
      "2025/08/07 10:28:38 WARNING mlflow.utils.environment: Failed to resolve installed pip version. ``pip`` will be added to conda.yaml environment spec without a version specifier.\n",
      "2025/08/07 10:28:38 INFO mlflow.store.db.utils: Creating initial MLflow database tables...\n",
      "2025/08/07 10:28:38 INFO mlflow.store.db.utils: Updating database tables\n",
      "INFO  [alembic.runtime.migration] Context impl SQLiteImpl.\n",
      "INFO  [alembic.runtime.migration] Will assume non-transactional DDL.\n",
      "Registered model 't20_runs_predictor' already exists. Creating a new version of this model...\n",
      "Created version '4' of model 't20_runs_predictor'.\n"
     ]
    },
    {
     "name": "stdout",
     "output_type": "stream",
     "text": [
      "Test R² Score: 0.449\n",
      "Test RMSE: 22.5 runs\n"
     ]
    }
   ],
   "source": [
    "# Execute the complete training pipeline\n",
    "training_results = pipeline.run_training(\n",
    "    train_ratio=0.7,  # 70% for training\n",
    "    val_ratio=0.15,  # 15% for validation\n",
    "    test_ratio=0.15,  # 15% for testing\n",
    ")\n",
    "\n",
    "# Extract key results\n",
    "trained_model = training_results[\"model\"]\n",
    "test_metrics = training_results[\"test_metrics\"]\n",
    "feature_importance = training_results[\"feature_importance\"]\n",
    "model_equation = training_results[\"model_equation\"]\n",
    "data_splits = training_results[\"data_splits\"]\n",
    "\n",
    "print(f\"Test R² Score: {test_metrics['test_r2']:.3f}\")\n",
    "print(f\"Test RMSE: {test_metrics['test_rmse']:.1f} runs\")"
   ]
  },
  {
   "cell_type": "markdown",
   "metadata": {},
   "source": [
    "## 4. Model Analysis and Interpretation"
   ]
  },
  {
   "cell_type": "code",
   "execution_count": 5,
   "metadata": {},
   "outputs": [
    {
     "name": "stdout",
     "output_type": "stream",
     "text": [
      "Model equation: total_runs = 152.378 + 54.827 * current_score - 7.002 * wickets_fallen + 42.301 * overs_remaining\n",
      "\n",
      "Feature importance:\n",
      "           feature  coefficient  abs_coefficient\n",
      "0    current_score    54.827015        54.827015\n",
      "1  overs_remaining    42.300971        42.300971\n",
      "2   wickets_fallen    -7.002480         7.002480\n",
      "3        intercept   152.377965       152.377965\n"
     ]
    },
    {
     "data": {
      "image/png": "[encoded data removed]",
      "text/plain": [
       "<Figure size 1000x600 with 1 Axes>"
      ]
     },
     "metadata": {},
     "output_type": "display_data"
    }
   ],
   "source": [
    "# Display model equation\n",
    "print(f\"Model equation: {model_equation}\")\n",
    "\n",
    "# Feature importance analysis\n",
    "print(\"\\nFeature importance:\")\n",
    "print(feature_importance)\n",
    "\n",
    "# Visualize feature importance\n",
    "fig, ax = plt.subplots(figsize=(10, 6))\n",
    "\n",
    "# Filter out intercept for the plot\n",
    "features_only = feature_importance[feature_importance[\"feature\"] != \"intercept\"]\n",
    "\n",
    "bars = ax.barh(features_only[\"feature\"], features_only[\"abs_coefficient\"])\n",
    "\n",
    "# Color bars based on coefficient sign\n",
    "for i, (bar, coeff) in enumerate(zip(bars, features_only[\"coefficient\"])):\n",
    "    if coeff >= 0:\n",
    "        bar.set_color(\"green\")\n",
    "        bar.set_alpha(0.7)\n",
    "    else:\n",
    "        bar.set_color(\"red\")\n",
    "        bar.set_alpha(0.7)\n",
    "\n",
    "# Add coefficient values as text\n",
    "for i, (feature, coeff, abs_coeff) in features_only.iterrows():\n",
    "    ax.text(\n",
    "        abs_coeff + 0.01 * max(features_only[\"abs_coefficient\"]),\n",
    "        i,\n",
    "        f\"{coeff:.3f}\",\n",
    "        va=\"center\",\n",
    "        fontweight=\"bold\",\n",
    "    )\n",
    "\n",
    "ax.set_xlabel(\"Absolute Coefficient Value\")\n",
    "ax.set_title(\"T20 Linear Regression: Feature Importance\", fontweight=\"bold\")\n",
    "ax.grid(True, alpha=0.3)\n",
    "\n",
    "plt.tight_layout()\n",
    "plt.show()"
   ]
  },
  {
   "cell_type": "markdown",
   "metadata": {},
   "source": [
    "## 5. Model Evaluation and Validation"
   ]
  },
  {
   "cell_type": "code",
   "execution_count": 6,
   "metadata": {},
   "outputs": [
    {
     "name": "stdout",
     "output_type": "stream",
     "text": [
      "📊 DETAILED MODEL EVALUATION:\n",
      "\n",
      "🎯 PERFORMANCE METRICS:\n",
      "   • R² Score: 0.449 (44.9% variance explained)\n",
      "   • RMSE: 22.5 runs (typical error magnitude)\n",
      "   • MAE: 16.9 runs (average absolute error)\n",
      "   • MAPE: 12.4% (percentage error)\n",
      "\n",
      "✅ MODEL QUALITY ASSESSMENT:\n",
      "   • Overall Performance: Poor (R² = 0.449)\n",
      "   • Error Magnitude: Good (RMSE = 22.5 runs)\n",
      "   • Percentage Error: Good (MAPE = 12.4%)\n"
     ]
    }
   ],
   "source": [
    "# For evaluation, we need to reconstruct test data\n",
    "# This is a limitation of the current pipeline - we should store test data for evaluation\n",
    "\n",
    "# Let's create a simple evaluation using the trained model's predict method\n",
    "print(\"📊 DETAILED MODEL EVALUATION:\")\n",
    "\n",
    "# Performance assessment\n",
    "r2_score = test_metrics[\"test_r2\"]\n",
    "rmse = test_metrics[\"test_rmse\"]\n",
    "mae = test_metrics[\"test_mae\"]\n",
    "mape = test_metrics[\"test_mape\"]\n",
    "\n",
    "print(\"\\n🎯 PERFORMANCE METRICS:\")\n",
    "print(f\"   • R² Score: {r2_score:.3f} ({r2_score * 100:.1f}% variance explained)\")\n",
    "print(f\"   • RMSE: {rmse:.1f} runs (typical error magnitude)\")\n",
    "print(f\"   • MAE: {mae:.1f} runs (average absolute error)\")\n",
    "print(f\"   • MAPE: {mape:.1f}% (percentage error)\")\n",
    "\n",
    "# Model quality assessment\n",
    "print(\"\\n✅ MODEL QUALITY ASSESSMENT:\")\n",
    "\n",
    "if r2_score >= 0.8:\n",
    "    quality = \"Excellent\"\n",
    "elif r2_score >= 0.7:\n",
    "    quality = \"Good\"\n",
    "elif r2_score >= 0.5:\n",
    "    quality = \"Fair\"\n",
    "else:\n",
    "    quality = \"Poor\"\n",
    "\n",
    "print(f\"   • Overall Performance: {quality} (R² = {r2_score:.3f})\")\n",
    "\n",
    "if rmse <= 15:\n",
    "    error_quality = \"Excellent\"\n",
    "elif rmse <= 25:\n",
    "    error_quality = \"Good\"\n",
    "elif rmse <= 35:\n",
    "    error_quality = \"Fair\"\n",
    "else:\n",
    "    error_quality = \"Poor\"\n",
    "\n",
    "print(f\"   • Error Magnitude: {error_quality} (RMSE = {rmse:.1f} runs)\")\n",
    "\n",
    "if mape <= 10:\n",
    "    percentage_quality = \"Excellent\"\n",
    "elif mape <= 15:\n",
    "    percentage_quality = \"Good\"\n",
    "elif mape <= 25:\n",
    "    percentage_quality = \"Fair\"\n",
    "else:\n",
    "    percentage_quality = \"Poor\"\n",
    "\n",
    "print(f\"   • Percentage Error: {percentage_quality} (MAPE = {mape:.1f}%)\")"
   ]
  },
  {
   "cell_type": "markdown",
   "metadata": {},
   "source": [
    "## 6. Model Prediction Examples"
   ]
  },
  {
   "cell_type": "code",
   "execution_count": 7,
   "metadata": {},
   "outputs": [
    {
     "name": "stdout",
     "output_type": "stream",
     "text": [
      "🔮 MODEL PREDICTION EXAMPLES:\n",
      "\n",
      "📋 PREDICTION SCENARIOS (Now at ANY ball!):\n",
      "--------------------------------------------------------------------------------\n",
      "Scenario                                 Current    Wickets  Overs Left   Predicted \n",
      "--------------------------------------------------------------------------------\n",
      "Strong Start (50/1 after 5 overs)        50         1        15.00        168    (+118)\n",
      "Mid-over situation (63/2 after 7.3 overs) 63         2        12.50        161    (+98)\n",
      "Arbitrary point (95/3 after 12.4 overs)  95         3        7.33         155    (+60)\n",
      "Good Platform (120/2 after 15 overs)     120        2        5.00         170    (+50)\n",
      "Death Overs Push (155/5 after 18.2 overs) 155        5        1.67         175    (+20)\n",
      "--------------------------------------------------------------------------------\n",
      "\n",
      "💡 Note: With all-balls training, we can now predict at ANY point in the innings!\n",
      "    Not just at 5, 10, and 15 overs like before.\n"
     ]
    }
   ],
   "source": [
    "# Create example scenarios for prediction\n",
    "print(\"🔮 MODEL PREDICTION EXAMPLES:\")\n",
    "\n",
    "# Define example scenarios - now we can predict at ANY point in the innings\n",
    "scenarios = [\n",
    "    {\n",
    "        \"name\": \"Strong Start (50/1 after 5 overs)\",\n",
    "        \"current_score\": 50,\n",
    "        \"wickets_fallen\": 1,\n",
    "        \"overs_remaining\": 15.0,\n",
    "    },\n",
    "    {\n",
    "        \"name\": \"Mid-over situation (63/2 after 7.3 overs)\",\n",
    "        \"current_score\": 63,\n",
    "        \"wickets_fallen\": 2,\n",
    "        \"overs_remaining\": 12.5,  # 12.3 overs remaining (7.3 completed)\n",
    "    },\n",
    "    {\n",
    "        \"name\": \"Arbitrary point (95/3 after 12.4 overs)\",\n",
    "        \"current_score\": 95,\n",
    "        \"wickets_fallen\": 3,\n",
    "        \"overs_remaining\": 7.33,  # 7.2 overs remaining (12.4 completed)\n",
    "    },\n",
    "    {\n",
    "        \"name\": \"Good Platform (120/2 after 15 overs)\",\n",
    "        \"current_score\": 120,\n",
    "        \"wickets_fallen\": 2,\n",
    "        \"overs_remaining\": 5.0,\n",
    "    },\n",
    "    {\n",
    "        \"name\": \"Death Overs Push (155/5 after 18.2 overs)\",\n",
    "        \"current_score\": 155,\n",
    "        \"wickets_fallen\": 5,\n",
    "        \"overs_remaining\": 1.67,  # 1.4 overs remaining (18.2 completed)\n",
    "    },\n",
    "]\n",
    "\n",
    "# Prepare features for prediction (need to scale them)\n",
    "scenario_features = np.array(\n",
    "    [[s[\"current_score\"], s[\"wickets_fallen\"], s[\"overs_remaining\"]] for s in scenarios]\n",
    ")\n",
    "\n",
    "# Scale features using the fitted scaler from pipeline\n",
    "scaled_features = pipeline.feature_engineer.transform_features(scenario_features)\n",
    "\n",
    "# Make predictions\n",
    "predictions = trained_model.predict(scaled_features)\n",
    "\n",
    "print(\"\\n📋 PREDICTION SCENARIOS (Now at ANY ball!):\")\n",
    "print(\"-\" * 80)\n",
    "print(\n",
    "    f\"{'Scenario':<40} {'Current':<10} {'Wickets':<8} {'Overs Left':<12} {'Predicted':<10}\"\n",
    ")\n",
    "print(\"-\" * 80)\n",
    "\n",
    "for i, scenario in enumerate(scenarios):\n",
    "    predicted_total = predictions[i]\n",
    "    runs_needed = predicted_total - scenario[\"current_score\"]\n",
    "\n",
    "    print(\n",
    "        f\"{scenario['name']:<40} {scenario['current_score']:<10} {scenario['wickets_fallen']:<8} {scenario['overs_remaining']:<12.2f} {predicted_total:<6.0f} (+{runs_needed:.0f})\"\n",
    "    )\n",
    "\n",
    "print(\"-\" * 80)\n",
    "print(\"\\n💡 Note: With all-balls training, we can now predict at ANY point in the innings!\")\n",
    "print(\"    Not just at 5, 10, and 15 overs like before.\")"
   ]
  },
  {
   "cell_type": "markdown",
   "metadata": {},
   "source": [
    "## 7. MLflow Experiment Tracking Review"
   ]
  },
  {
   "cell_type": "code",
   "execution_count": 8,
   "metadata": {},
   "outputs": [
    {
     "name": "stdout",
     "output_type": "stream",
     "text": [
      "🔬 MLFLOW EXPERIMENT TRACKING:\n",
      "\n",
      "   • Experiment: male_team_level_t20\n",
      "   • Latest Run ID: 163cbe5c1f8d453cac08e18157613798\n",
      "   • Status: FINISHED\n",
      "   • Start Time: 2025-08-07 09:28:38.950000+00:00\n",
      "\n",
      "   📊 Logged Metrics:\n",
      "      • test_mae: 16.9002\n",
      "      • test_rmse: 22.5048\n",
      "      • test_r2: 0.4489\n",
      "      • test_mape: 12.4059\n",
      "\n",
      "   ⚙️ Logged Parameters:\n",
      "      • evaluation_samples: 322983\n",
      "\n",
      "   📁 Artifacts Logged:\n",
      "      • Model: Registered as 't20_runs_predictor'\n",
      "      • Feature importance data\n",
      "      • Training metadata\n",
      "\n",
      "🌐 MLflow UI Access:\n",
      "   Open your browser to: http://127.0.0.1:5000../mlflow_setup/mlflow.db\n",
      "   Navigate to experiment: male_team_level_t20\n"
     ]
    }
   ],
   "source": [
    "# Get the latest run from our experiment\n",
    "experiment = mlflow.get_experiment_by_name(EXPERIMENT_NAME)\n",
    "runs_df = mlflow.search_runs(experiment.experiment_id, order_by=[\"start_time DESC\"])\n",
    "\n",
    "if len(runs_df) > 0:\n",
    "    latest_run = runs_df.iloc[0]\n",
    "\n",
    "    print(\"🔬 MLFLOW EXPERIMENT TRACKING:\")\n",
    "    print(f\"\\n   • Experiment: {EXPERIMENT_NAME}\")\n",
    "    print(f\"   • Latest Run ID: {latest_run['run_id']}\")\n",
    "    print(f\"   • Status: {latest_run['status']}\")\n",
    "    print(f\"   • Start Time: {latest_run['start_time']}\")\n",
    "\n",
    "    print(\"\\n   📊 Logged Metrics:\")\n",
    "    metric_columns = [col for col in runs_df.columns if col.startswith(\"metrics.\")]\n",
    "    for col in metric_columns:\n",
    "        metric_name = col.replace(\"metrics.\", \"\")\n",
    "        metric_value = latest_run[col]\n",
    "        if pd.notna(metric_value):\n",
    "            print(f\"      • {metric_name}: {metric_value:.4f}\")\n",
    "\n",
    "    print(\"\\n   ⚙️ Logged Parameters:\")\n",
    "    param_columns = [col for col in runs_df.columns if col.startswith(\"params.\")]\n",
    "    for col in param_columns:\n",
    "        param_name = col.replace(\"params.\", \"\")\n",
    "        param_value = latest_run[col]\n",
    "        if pd.notna(param_value):\n",
    "            print(f\"      • {param_name}: {param_value}\")\n",
    "\n",
    "    print(\"\\n   📁 Artifacts Logged:\")\n",
    "    print(f\"      • Model: Registered as '{trained_model.model_name}'\")\n",
    "    print(\"      • Feature importance data\")\n",
    "    print(\"      • Training metadata\")\n",
    "\n",
    "    print(\"\\n🌐 MLflow UI Access:\")\n",
    "    print(\n",
    "        f\"   Open your browser to: {mlflow.get_tracking_uri().replace('sqlite:///', 'http://127.0.0.1:5000')}\"\n",
    "    )\n",
    "    print(f\"   Navigate to experiment: {EXPERIMENT_NAME}\")\n",
    "\n",
    "else:\n",
    "    print(\"No runs found in the experiment.\")"
   ]
  },
  {
   "cell_type": "markdown",
   "metadata": {},
   "source": [
    "## 8. Model Registry and Versioning"
   ]
  },
  {
   "cell_type": "code",
   "execution_count": 9,
   "metadata": {},
   "outputs": [
    {
     "name": "stdout",
     "output_type": "stream",
     "text": [
      "📦 MODEL REGISTRY:\n",
      "\n",
      "   • Model Name: t20_runs_predictor\n",
      "   • Description: No description\n",
      "   • Creation Time: 1754556337685\n",
      "   • Last Updated: 1754558918922\n",
      "\n",
      "   📊 Model Versions:\n",
      "      • Version 4:\n",
      "        - Stage: None\n",
      "        - Run ID: 3814fe3ba6fb4f98a70a95294ef761c1\n",
      "        - Created: 1754558918922\n",
      "      • Version 3:\n",
      "        - Stage: None\n",
      "        - Run ID: 66bd9fc3795c4056900323936b020af6\n",
      "        - Created: 1754558698504\n",
      "      • Version 2:\n",
      "        - Stage: None\n",
      "        - Run ID: a0762f3a8d6e4b28a6ddabe0819b5333\n",
      "        - Created: 1754556416683\n",
      "      • Version 1:\n",
      "        - Stage: None\n",
      "        - Run ID: 4b3f0ac9e4134a719708ea77993eadd7\n",
      "        - Created: 1754556337689\n",
      "\n",
      "   🔧 Model Loading Examples:\n",
      "      # Load latest version:\n",
      "      model = mlflow.sklearn.load_model('models:/t20_runs_predictor/latest')\n",
      "      \n",
      "      # Load specific version:\n",
      "      model = mlflow.sklearn.load_model('models:/t20_runs_predictor/4')\n",
      "      \n",
      "      # Using our convenience function:\n",
      "      from cricket.ml.models.linear_regression import predict_innings_total\n",
      "      total = predict_innings_total(120, 3, 5.0)  # current_score, wickets, overs_left\n"
     ]
    }
   ],
   "source": [
    "# Check model registry\n",
    "from mlflow.tracking import MlflowClient\n",
    "\n",
    "client = MlflowClient()\n",
    "model_name = \"t20_runs_predictor\"\n",
    "\n",
    "try:\n",
    "    # Get registered model information\n",
    "    registered_model = client.get_registered_model(model_name)\n",
    "\n",
    "    print(\"📦 MODEL REGISTRY:\")\n",
    "    print(f\"\\n   • Model Name: {registered_model.name}\")\n",
    "    print(f\"   • Description: {registered_model.description or 'No description'}\")\n",
    "    print(f\"   • Creation Time: {registered_model.creation_timestamp}\")\n",
    "    print(f\"   • Last Updated: {registered_model.last_updated_timestamp}\")\n",
    "\n",
    "    # Get model versions\n",
    "    versions = client.search_model_versions(f\"name='{model_name}'\")\n",
    "\n",
    "    print(\"\\n   📊 Model Versions:\")\n",
    "    for version in versions:\n",
    "        print(f\"      • Version {version.version}:\")\n",
    "        print(f\"        - Stage: {version.current_stage}\")\n",
    "        print(f\"        - Run ID: {version.run_id}\")\n",
    "        print(f\"        - Created: {version.creation_timestamp}\")\n",
    "\n",
    "    # Show how to load the latest model\n",
    "    print(\"\\n   🔧 Model Loading Examples:\")\n",
    "    print(\"      # Load latest version:\")\n",
    "    print(f\"      model = mlflow.sklearn.load_model('models:/{model_name}/latest')\")\n",
    "    print(\"      \")\n",
    "    print(\"      # Load specific version:\")\n",
    "    print(\n",
    "        f\"      model = mlflow.sklearn.load_model('models:/{model_name}/{versions[0].version}')\"\n",
    "    )\n",
    "    print(\"      \")\n",
    "    print(\"      # Using our convenience function:\")\n",
    "    print(\n",
    "        \"      from cricket.ml.models.linear_regression import predict_innings_total\"\n",
    "    )\n",
    "    print(\n",
    "        \"      total = predict_innings_total(120, 3, 5.0)  # current_score, wickets, overs_left\"\n",
    "    )\n",
    "\n",
    "except Exception as e:\n",
    "    print(f\"Model not found in registry: {e}\")\n",
    "    print(\"The model should have been registered during training.\")"
   ]
  },
  {
   "cell_type": "markdown",
   "metadata": {},
   "source": [
    "## 9. Model Validation and Testing"
   ]
  },
  {
   "cell_type": "code",
   "execution_count": 10,
   "metadata": {},
   "outputs": [
    {
     "name": "stdout",
     "output_type": "stream",
     "text": [
      "🧪 MODEL VALIDATION TESTS:\n",
      "   ✅ Model successfully loaded from registry\n",
      "   ✅ Test prediction successful: 169 runs\n",
      "   ✅ Prediction is within reasonable T20 range\n",
      "\n",
      "   🔍 Edge Case Testing:\n",
      "      • Early collapse: 112 runs\n",
      "      • Perfect start: 168 runs\n",
      "      • Final over: 198 runs\n",
      "\n",
      "   ✅ All validation tests passed!\n"
     ]
    }
   ],
   "source": [
    "# Test loading and using the registered model\n",
    "print(\"🧪 MODEL VALIDATION TESTS:\")\n",
    "\n",
    "try:\n",
    "    # Load model from registry\n",
    "    loaded_model = mlflow.sklearn.load_model(f\"models:/{model_name}/latest\")\n",
    "    print(\"   ✅ Model successfully loaded from registry\")\n",
    "\n",
    "    # Test prediction with a simple example\n",
    "    test_features = pipeline.feature_engineer.transform_features(\n",
    "        np.array([[100, 2, 8.0]])  # 100 runs, 2 wickets, 8 overs left\n",
    "    )\n",
    "\n",
    "    prediction = loaded_model.predict(test_features)[0]\n",
    "    print(f\"   ✅ Test prediction successful: {prediction:.0f} runs\")\n",
    "\n",
    "    # Validate prediction is reasonable (between 100 and 250 for T20)\n",
    "    if 100 <= prediction <= 250:\n",
    "        print(\"   ✅ Prediction is within reasonable T20 range\")\n",
    "    else:\n",
    "        print(f\"   ⚠️ Prediction {prediction:.0f} may be outside normal T20 range\")\n",
    "\n",
    "    # Test with edge cases\n",
    "    edge_cases = [\n",
    "        {\"name\": \"Early collapse\", \"features\": [20, 8, 15.0]},\n",
    "        {\"name\": \"Perfect start\", \"features\": [80, 0, 10.0]},\n",
    "        {\"name\": \"Final over\", \"features\": [180, 5, 1.0]},\n",
    "    ]\n",
    "\n",
    "    print(\"\\n   🔍 Edge Case Testing:\")\n",
    "    for case in edge_cases:\n",
    "        test_features = pipeline.feature_engineer.transform_features(\n",
    "            np.array([case[\"features\"]])\n",
    "        )\n",
    "        prediction = loaded_model.predict(test_features)[0]\n",
    "        print(f\"      • {case['name']}: {prediction:.0f} runs\")\n",
    "\n",
    "    print(\"\\n   ✅ All validation tests passed!\")\n",
    "\n",
    "except Exception as e:\n",
    "    print(f\"   ❌ Validation failed: {e}\")"
   ]
  },
  {
   "cell_type": "markdown",
   "metadata": {},
   "source": [
    "## 10. Training Summary and Next Steps"
   ]
  },
  {
   "cell_type": "code",
   "execution_count": 11,
   "metadata": {},
   "outputs": [
    {
     "name": "stdout",
     "output_type": "stream",
     "text": [
      "Test R² Score: 0.449\n",
      "Test RMSE: 22.5 runs\n",
      "Model: total_runs = 152.378 + 54.827 * current_score - 7.002 * wickets_fallen + 42.301 * overs_remaining\n"
     ]
    }
   ],
   "source": [
    "print(f\"Test R² Score: {test_metrics['test_r2']:.3f}\")\n",
    "print(f\"Test RMSE: {test_metrics['test_rmse']:.1f} runs\")\n",
    "print(f\"Model: {model_equation}\")\n",
    "\n",
    "# Save training summary\n",
    "training_summary = {\n",
    "    \"model_name\": model_name,\n",
    "    \"experiment_name\": EXPERIMENT_NAME,\n",
    "    \"test_r2\": test_metrics[\"test_r2\"],\n",
    "    \"test_rmse\": test_metrics[\"test_rmse\"],\n",
    "    \"test_mae\": test_metrics[\"test_mae\"],\n",
    "    \"model_equation\": model_equation,\n",
    "    \"training_samples\": data_splits[\"train_samples\"],\n",
    "    \"test_samples\": data_splits[\"test_samples\"],\n",
    "}\n",
    "\n",
    "# Store for next notebook\n",
    "import json\n",
    "\n",
    "with open(\"training_summary.json\", \"w\") as f:\n",
    "    json.dump(training_summary, f, indent=2)"
   ]
  },
  {
   "cell_type": "markdown",
   "metadata": {},
   "source": [
    "## Model Usage Examples\n",
    "\n",
    "After training, you can use the model in several ways:\n",
    "\n",
    "### 1. Load from MLflow Registry\n",
    "```python\n",
    "import mlflow.sklearn\n",
    "model = mlflow.sklearn.load_model(\"models:/t20_runs_predictor/latest\")\n",
    "```\n",
    "\n",
    "### 2. Use Convenience Function\n",
    "```python\n",
    "from cricket.ml.models.linear_regression import predict_innings_total\n",
    "predicted_total = predict_innings_total(\n",
    "    current_score=120,\n",
    "    wickets_fallen=3, \n",
    "    overs_remaining=5.0\n",
    ")\n",
    "```\n",
    "\n",
    "### 3. Integration with Pipeline\n",
    "```python\n",
    "from cricket.ml.training import T20TrainingPipeline\n",
    "pipeline = T20TrainingPipeline(\"data.parquet\")\n",
    "results = pipeline.run_training()\n",
    "model = results[\"model\"]\n",
    "```\n",
    "\n",
    "**Next**: Continue to `t20_model_evaluation.ipynb` for detailed model analysis and visualizations."
   ]
  }
 ],
 "metadata": {
  "kernelspec": {
   "display_name": ".venv",
   "language": "python",
   "name": "python3"
  },
  "language_info": {
   "codemirror_mode": {
    "name": "ipython",
    "version": 3
   },
   "file_extension": ".py",
   "mimetype": "text/x-python",
   "name": "python",
   "nbconvert_exporter": "python",
   "pygments_lexer": "ipython3",
   "version": "3.12.9"
  }
 },
 "nbformat": 4,
 "nbformat_minor": 4
}
