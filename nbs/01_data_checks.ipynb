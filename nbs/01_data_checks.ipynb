{
 "cells": [
  {
   "cell_type": "code",
   "execution_count": 1,
   "metadata": {},
   "outputs": [],
   "source": [
    "import polars as pl\n",
    "\n",
    "from cricket.constants import DATA_FOLDER"
   ]
  },
  {
   "cell_type": "markdown",
   "metadata": {},
   "source": [
    "# Data Checks\n",
    "\n",
    "As of the time of writing this notebook (01/04/2024), I've just made all the files parseable into one big file. I want to check that this is good enough for doings simple aggregations on. I'm going to start by getting some simple analytics done. These are:\n",
    "\n",
    "1. Joe Root's batting average in all formats (and rolling one to be fancy).\n",
    "2. James Anderson's test wickets by year. \n",
    "\n",
    "Can you tell I'm english?"
   ]
  },
  {
   "cell_type": "code",
   "execution_count": 10,
   "metadata": {},
   "outputs": [
    {
     "ename": "ComputeError",
     "evalue": "parquet: File out of specification: Repetition level must be defined for a primitive type",
     "output_type": "error",
     "traceback": [
      "\u001b[0;31m---------------------------------------------------------------------------\u001b[0m",
      "\u001b[0;31mComputeError\u001b[0m                              Traceback (most recent call last)",
      "Cell \u001b[0;32mIn[10], line 1\u001b[0m\n\u001b[0;32m----> 1\u001b[0m ball_by_ball \u001b[38;5;241m=\u001b[39m \u001b[43mpl\u001b[49m\u001b[38;5;241;43m.\u001b[39;49m\u001b[43mread_parquet_schema\u001b[49m\u001b[43m(\u001b[49m\u001b[43mDATA_FOLDER\u001b[49m\u001b[38;5;241;43m.\u001b[39;49m\u001b[43mjoinpath\u001b[49m\u001b[43m(\u001b[49m\u001b[38;5;124;43m\"\u001b[39;49m\u001b[38;5;124;43mball_by_ball.parquet\u001b[39;49m\u001b[38;5;124;43m\"\u001b[39;49m\u001b[43m)\u001b[49m\u001b[43m)\u001b[49m\n\u001b[1;32m      2\u001b[0m ball_by_ball\n",
      "File \u001b[0;32m~/Library/Caches/pypoetry/virtualenvs/cricket-PWilCMmu-py3.9/lib/python3.9/site-packages/polars/io/parquet/functions.py:213\u001b[0m, in \u001b[0;36mread_parquet_schema\u001b[0;34m(source)\u001b[0m\n\u001b[1;32m    210\u001b[0m \u001b[38;5;28;01mif\u001b[39;00m \u001b[38;5;28misinstance\u001b[39m(source, (\u001b[38;5;28mstr\u001b[39m, Path)):\n\u001b[1;32m    211\u001b[0m     source \u001b[38;5;241m=\u001b[39m normalize_filepath(source)\n\u001b[0;32m--> 213\u001b[0m \u001b[38;5;28;01mreturn\u001b[39;00m \u001b[43m_read_parquet_schema\u001b[49m\u001b[43m(\u001b[49m\u001b[43msource\u001b[49m\u001b[43m)\u001b[49m\n",
      "\u001b[0;31mComputeError\u001b[0m: parquet: File out of specification: Repetition level must be defined for a primitive type"
     ]
    }
   ],
   "source": [
    "ball_by_ball = pl.read_parquet_schema(DATA_FOLDER.joinpath(\"ball_by_ball.parquet\"))\n",
    "ball_by_ball"
   ]
  }
 ],
 "metadata": {
  "kernelspec": {
   "display_name": "cricket-PWilCMmu-py3.9",
   "language": "python",
   "name": "python3"
  },
  "language_info": {
   "codemirror_mode": {
    "name": "ipython",
    "version": 3
   },
   "file_extension": ".py",
   "mimetype": "text/x-python",
   "name": "python",
   "nbconvert_exporter": "python",
   "pygments_lexer": "ipython3",
   "version": "3.9.16"
  }
 },
 "nbformat": 4,
 "nbformat_minor": 2
}
